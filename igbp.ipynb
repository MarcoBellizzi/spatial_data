{
 "cells": [
  {
   "cell_type": "code",
   "execution_count": 29,
   "metadata": {},
   "outputs": [
    {
     "name": "stdout",
     "output_type": "stream",
     "text": [
      "(1686, 4320)\n"
     ]
    }
   ],
   "source": [
    "import numpy\n",
    "\n",
    "with open('./data/IGBP-SurfaceProducts_569/data/soilcarb.dat') as file:\n",
    "    data = file.readlines()\n",
    "data = data[6:]\n",
    "\n",
    "rows = []\n",
    "for line in data:\n",
    "    rows.append([float(number) for number in line.split()])\n",
    "\n",
    "np_rows = numpy.array(rows)\n",
    "print(np_rows.shape)"
   ]
  }
 ],
 "metadata": {
  "kernelspec": {
   "display_name": "Python 3",
   "language": "python",
   "name": "python3"
  },
  "language_info": {
   "codemirror_mode": {
    "name": "ipython",
    "version": 3
   },
   "file_extension": ".py",
   "mimetype": "text/x-python",
   "name": "python",
   "nbconvert_exporter": "python",
   "pygments_lexer": "ipython3",
   "version": "3.11.5"
  }
 },
 "nbformat": 4,
 "nbformat_minor": 2
}
