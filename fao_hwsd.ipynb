{
 "cells": [
  {
   "cell_type": "code",
   "execution_count": 1,
   "metadata": {},
   "outputs": [],
   "source": [
    "import rasterio\n",
    "\n",
    "dataset = rasterio.open(\"./data/fao/HWSD_RASTER/hwsd.bil\")"
   ]
  },
  {
   "cell_type": "code",
   "execution_count": 2,
   "metadata": {},
   "outputs": [
    {
     "name": "stdout",
     "output_type": "stream",
     "text": [
      "<class 'rasterio.io.DatasetReader'>\n",
      "1\n",
      "(21600, 43200)\n",
      "None\n"
     ]
    }
   ],
   "source": [
    "print(type(dataset))\n",
    "print(dataset.count)\n",
    "print(dataset.shape)\n",
    "print(dataset.crs)"
   ]
  },
  {
   "cell_type": "code",
   "execution_count": 3,
   "metadata": {},
   "outputs": [],
   "source": [
    "band = dataset.read(1)"
   ]
  },
  {
   "cell_type": "code",
   "execution_count": 4,
   "metadata": {},
   "outputs": [
    {
     "name": "stdout",
     "output_type": "stream",
     "text": [
      "<class 'numpy.ndarray'>\n",
      "0\n",
      "32050\n",
      "2206.1819814461164\n",
      "5315.849547364661\n"
     ]
    }
   ],
   "source": [
    "import numpy \n",
    "\n",
    "print(type(band))\n",
    "print(numpy.min(band))\n",
    "print(numpy.max(band))\n",
    "print(numpy.mean(band))\n",
    "print(numpy.std(band))\n"
   ]
  }
 ],
 "metadata": {
  "kernelspec": {
   "display_name": "Python 3",
   "language": "python",
   "name": "python3"
  },
  "language_info": {
   "codemirror_mode": {
    "name": "ipython",
    "version": 3
   },
   "file_extension": ".py",
   "mimetype": "text/x-python",
   "name": "python",
   "nbconvert_exporter": "python",
   "pygments_lexer": "ipython3",
   "version": "3.11.5"
  },
  "orig_nbformat": 4
 },
 "nbformat": 4,
 "nbformat_minor": 2
}
