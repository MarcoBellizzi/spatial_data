{
 "cells": [
  {
   "cell_type": "code",
   "execution_count": 17,
   "metadata": {},
   "outputs": [],
   "source": [
    "from sentinelhub import (\n",
    "    SHConfig,\n",
    "    BBox,\n",
    "    CRS,\n",
    "    bbox_to_dimensions,\n",
    "    DataCollection,\n",
    "    MimeType,\n",
    "    MosaickingOrder,\n",
    "    SentinelHubRequest,\n",
    ")\n",
    "\n",
    "def get_images():\n",
    "    \n",
    "    # put here your sentinel hub credential\n",
    "    config = SHConfig()\n",
    "    config.sh_client_id = \"8ff68274-26f1-4692-a7d2-25dafcdac2e1\"\n",
    "    config.sh_client_secret = \"a0axlz85GRg9bXj5DwsRCoUb9hxfCZTH8dZk4u4k\"\n",
    "\n",
    "    # customize this functions to specify the band you want to download\n",
    "    evalscript = \"\"\"\n",
    "        //VERSION=3\n",
    "        function setup() {\n",
    "            return {\n",
    "                input: [{\n",
    "                    bands: [\"DEM\"],\n",
    "                    units: \"DN\"\n",
    "                }],\n",
    "                output: {\n",
    "                    bands: 1,\n",
    "                    sampleType: \"INT16\"\n",
    "                }\n",
    "            };\n",
    "        }\n",
    "\n",
    "        function evaluatePixel(sample) {\n",
    "            return [sample.DEM];\n",
    "        }\n",
    "    \"\"\"\n",
    "\n",
    "    # put here the coordinate of the image you want to download\n",
    "    coordinates = (-88.157, 39.879, -88.150, 39.887)\n",
    "\n",
    "    # set the coordinate reference system\n",
    "    crs = CRS.WGS84\n",
    "\n",
    "    # set the desired resolution\n",
    "    resolution = 0.4\n",
    "\n",
    "    # set the time interval\n",
    "    time_interval = (\"2019-01-01\", \"2019-12-31\")\n",
    "\n",
    "    # set the source of the image\n",
    "    data_collection = DataCollection.DEM\n",
    "\n",
    "    # set the constant class for type of mosaicking order\n",
    "    mosaicking_order = MosaickingOrder.LEAST_CC\n",
    "\n",
    "    # update this value if you want to save the image\n",
    "    save_data = True\n",
    "\n",
    "    # set the folder where you want to dowload the image\n",
    "    data_folder = './data/sentinel_images'\n",
    "\n",
    "    # set the format of the image\n",
    "    response_format = MimeType.TIFF\n",
    "\n",
    "    bbox = BBox(bbox = coordinates, crs = crs)\n",
    "    size = bbox_to_dimensions(bbox, resolution = resolution)\n",
    "    request = SentinelHubRequest(\n",
    "        config = config,\n",
    "        bbox = bbox,\n",
    "        size = size,\n",
    "        evalscript = evalscript,\n",
    "        data_folder = data_folder,\n",
    "        input_data = [\n",
    "            SentinelHubRequest.input_data(\n",
    "                time_interval = time_interval,\n",
    "                data_collection = data_collection,\n",
    "                mosaicking_order = mosaicking_order\n",
    "            )\n",
    "        ],\n",
    "        responses = [\n",
    "            SentinelHubRequest.output_response(\n",
    "                identifier = \"default\",\n",
    "                response_format = response_format\n",
    "            )\n",
    "        ]\n",
    "    )\n",
    "\n",
    "    return request.get_data(save_data = save_data)"
   ]
  },
  {
   "cell_type": "code",
   "execution_count": 18,
   "metadata": {},
   "outputs": [
    {
     "name": "stdout",
     "output_type": "stream",
     "text": [
      "(2201, 1525)\n"
     ]
    }
   ],
   "source": [
    "for image in get_images():\n",
    "    print(image.shape)"
   ]
  },
  {
   "cell_type": "code",
   "execution_count": 8,
   "metadata": {},
   "outputs": [
    {
     "data": {
      "image/png": "[encoded data removed]",
      "text/plain": [
       "<Figure size 640x480 with 1 Axes>"
      ]
     },
     "metadata": {},
     "output_type": "display_data"
    }
   ],
   "source": [
    "import rasterio \n",
    "\n",
    "from rasterio.plot import show\n",
    "\n",
    "raster = rasterio.open(\"./data/sentinel_images/f532756bb60fccb2c1e599320ff06a12/response.tiff\")\n",
    "\n",
    "for i in range(1, raster.count + 1):\n",
    "    img = raster.read(i)\n",
    "    show(img)\n",
    "\n",
    "raster.close()"
   ]
  }
 ],
 "metadata": {
  "kernelspec": {
   "display_name": "Python 3",
   "language": "python",
   "name": "python3"
  },
  "language_info": {
   "codemirror_mode": {
    "name": "ipython",
    "version": 3
   },
   "file_extension": ".py",
   "mimetype": "text/x-python",
   "name": "python",
   "nbconvert_exporter": "python",
   "pygments_lexer": "ipython3",
   "version": "3.11.7"
  }
 },
 "nbformat": 4,
 "nbformat_minor": 2
}
