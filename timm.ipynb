{
  "cells": [
    {
      "cell_type": "markdown",
      "metadata": {},
      "source": [
        "## THIS NOTEBOOK AIMS TO USING A TIMM MODEL TO PREDICT THE PRESENCE OF WATER IN A SATELLITE IMAGE"
      ]
    },
    {
      "cell_type": "code",
      "execution_count": 1,
      "metadata": {
        "colab": {
          "base_uri": "https://localhost:8080/"
        },
        "id": "n-Nm_AabAGrB",
        "outputId": "9faf6bc9-adb2-4209-ee72-963536aeb28b"
      },
      "outputs": [
        {
          "name": "stdout",
          "output_type": "stream",
          "text": [
            "Mounted at /content/drive\n"
          ]
        }
      ],
      "source": [
        "from google.colab import drive\n",
        "drive.mount('/content/drive')"
      ]
    },
    {
      "cell_type": "code",
      "execution_count": 2,
      "metadata": {
        "colab": {
          "base_uri": "https://localhost:8080/"
        },
        "id": "HmmdfKRIAGrN",
        "outputId": "01132112-b7b8-4064-a32b-0092eb8bf7e5"
      },
      "outputs": [
        {
          "name": "stdout",
          "output_type": "stream",
          "text": [
            "dataset size\n",
            "(2841, 3, 128, 128)\n",
            "(2841, 16384)\n",
            "train size\n",
            "(2272, 3, 128, 128)\n",
            "(2272, 16384)\n",
            "validation size\n",
            "(569, 3, 128, 128)\n",
            "(569, 16384)\n"
          ]
        }
      ],
      "source": [
        "import os\n",
        "import torchvision.transforms as transforms\n",
        "import numpy as np\n",
        "\n",
        "from PIL import Image\n",
        "\n",
        "# data from here https://www.kaggle.com/datasets/franciscoescobar/satellite-images-of-water-bodies\n",
        "\n",
        "#images_path = \"./data/Water Bodies Dataset/Images\"\n",
        "#masks_path = \"./data/Water Bodies Dataset/Masks\"\n",
        "\n",
        "images_path = \"/content/drive/MyDrive/Data/Water Bodies Dataset/Images\"\n",
        "masks_path = \"/content/drive/MyDrive/Data/Water Bodies Dataset/Masks\"\n",
        "\n",
        "IMAGES_WITH = 128\n",
        "IMAGES_HEIGHT = 128\n",
        "\n",
        "transform = transforms.Compose([\n",
        "    transforms.PILToTensor(),\n",
        "    transforms.Resize((IMAGES_WITH, IMAGES_HEIGHT), antialias=True)\n",
        "])\n",
        "\n",
        "def format_image(path):\n",
        "    image = Image.open(path)\n",
        "    image = transform(image)\n",
        "    image = image / 255\n",
        "    image = image.float()\n",
        "    return image.numpy()\n",
        "\n",
        "def format_mask(path):\n",
        "    mask = Image.open(path)\n",
        "    mask = transform(mask)\n",
        "    mask = mask[0]\n",
        "    mask = mask / 255\n",
        "    mask = mask.reshape(IMAGES_WITH * IMAGES_HEIGHT)\n",
        "    return mask.numpy()\n",
        "\n",
        "images = []\n",
        "masks = []\n",
        "for path in os.listdir(images_path):\n",
        "    images.append(format_image(images_path + \"/\" + path))\n",
        "    masks.append(format_mask(masks_path + \"/\" + path))\n",
        "\n",
        "images = np.array(images, dtype='float32')\n",
        "masks = np.array(masks, dtype='float32')\n",
        "\n",
        "print(\"dataset size\")\n",
        "print(images.shape)\n",
        "print(masks.shape)\n",
        "\n",
        "split = 0.8\n",
        "\n",
        "images_train = images[:int(images.shape[0]*split)]\n",
        "masks_train = masks[:int(masks.shape[0]*split)]\n",
        "\n",
        "print(\"train size\")\n",
        "print(images_train.shape)\n",
        "print(masks_train.shape)\n",
        "\n",
        "images_val = images[int(images.shape[0]*split):]\n",
        "masks_val = masks[int(masks.shape[0]*split):]\n",
        "\n",
        "print(\"validation size\")\n",
        "print(images_val.shape)\n",
        "print(masks_val.shape)"
      ]
    },
    {
      "cell_type": "code",
      "execution_count": 4,
      "metadata": {
        "colab": {
          "base_uri": "https://localhost:8080/",
          "height": 66,
          "referenced_widgets": [
            "5c8b1d336c2f40ec845a01acc0a98e72",
            "62ddc1d39cd744f7b17f442895028038",
            "69b86e1c61d84154a795e69d55747882",
            "d054cbb8e63f46ab9054dd742c6afff3",
            "4b11f7b847b14d03b14b4c87b7008389",
            "7a293b84626f4854a5ef638b00fc52e2",
            "90a03be7d1b44b96aba4dda58029b33d",
            "3fc76d0ccbaa4ebaa3bf16f106945907",
            "e6054f6ad7104ed9941ee05b0851271c",
            "ab06b6b5e0de41d4a316bf295027eae0",
            "45ab0f8b79e74489b23210265c611df8"
          ]
        },
        "id": "VS8Gr7s-AGra",
        "outputId": "1eb15585-98bf-478c-cb61-610e8bfdcf55"
      },
      "outputs": [
        {
          "data": {
            "application/vnd.jupyter.widget-view+json": {
              "model_id": "5c8b1d336c2f40ec845a01acc0a98e72",
              "version_major": 2,
              "version_minor": 0
            },
            "text/plain": [
              "Downloading model.safetensors:   0%|          | 0.00/103M [00:00<?, ?B/s]"
            ]
          },
          "metadata": {},
          "output_type": "display_data"
        },
        {
          "name": "stdout",
          "output_type": "stream",
          "text": [
            "Linear(in_features=2048, out_features=16384, bias=True)\n"
          ]
        }
      ],
      "source": [
        "import timm\n",
        "\n",
        "model = timm.create_model(\n",
        "    'resnet50d',\n",
        "    pretrained=True,\n",
        "    in_chans=3,\n",
        "    num_classes=IMAGES_WITH*IMAGES_HEIGHT)\n",
        "\n",
        "print(model.fc)"
      ]
    },
    {
      "cell_type": "code",
      "execution_count": 5,
      "metadata": {
        "colab": {
          "base_uri": "https://localhost:8080/"
        },
        "id": "Q02dHMUAAGrd",
        "outputId": "7812590b-304a-4a7b-ee37-a2c42e841f8d"
      },
      "outputs": [
        {
          "name": "stdout",
          "output_type": "stream",
          "text": [
            "[INFO] EPOCH: 569/2\n",
            "Train loss: 0.496757, Test loss: 0.7895\n",
            "[INFO] EPOCH: 569/2\n",
            "Train loss: 0.402196, Test loss: 0.7783\n"
          ]
        }
      ],
      "source": [
        "import torch\n",
        "\n",
        "device = torch.device(\"cuda\" if torch.cuda.is_available() else \"cpu\")\n",
        "\n",
        "model.to(device)\n",
        "\n",
        "criterion = torch.nn.BCEWithLogitsLoss()\n",
        "optimizer = torch.optim.Adam(model.parameters(), lr=0.001)\n",
        "\n",
        "num_epochs = 2\n",
        "\n",
        "train_loss = []\n",
        "val_loss = []\n",
        "\n",
        "for epoch in range(num_epochs):\n",
        "    totalTrainLoss = 0\n",
        "    totalTestLoss = 0\n",
        "\n",
        "    for i in range(len(images_train)):\n",
        "        model.train()\n",
        "\n",
        "        tensor_image = torch.from_numpy(np.array([images_train[i]]))\n",
        "        tensor_mask = torch.from_numpy(np.array([masks_train[i]]))\n",
        "\n",
        "        tensor_image = tensor_image.to(device)\n",
        "        tensor_mask = tensor_mask.to(device)\n",
        "\n",
        "        outputs = model(tensor_image)\n",
        "        loss = criterion(outputs, tensor_mask)\n",
        "\n",
        "        optimizer.zero_grad()\n",
        "        loss.backward()\n",
        "        optimizer.step()\n",
        "\n",
        "        totalTrainLoss += loss\n",
        "\n",
        "\n",
        "    with torch.no_grad():\n",
        "        model.eval()\n",
        "\n",
        "        for i in range(len(images_val)):\n",
        "            tensor_image = torch.from_numpy(np.array([images_val[i]]))\n",
        "            tensor_mask = torch.from_numpy(np.array([masks_val[i]]))\n",
        "\n",
        "            tensor_image = tensor_image.to(device)\n",
        "            tensor_mask = tensor_mask.to(device)\n",
        "\n",
        "            outputs = model(tensor_image)\n",
        "            loss = criterion(outputs, tensor_mask)\n",
        "\n",
        "            totalTestLoss += loss\n",
        "\n",
        "    avgTrainLoss = totalTrainLoss / len(images_train)\n",
        "    avgTestLoss = totalTestLoss / len(images_val)\n",
        "\n",
        "    train_loss.append(avgTrainLoss.cpu().detach().numpy())\n",
        "    val_loss.append(avgTestLoss.cpu().detach().numpy())\n",
        "\n",
        "    print(\"[INFO] EPOCH: {}/{}\".format(i + 1, num_epochs))\n",
        "    print(\"Train loss: {:.6f}, Test loss: {:.4f}\".format(avgTrainLoss, avgTestLoss))"
      ]
    },
    {
      "cell_type": "code",
      "execution_count": 12,
      "metadata": {
        "colab": {
          "base_uri": "https://localhost:8080/",
          "height": 393
        },
        "id": "MJleUhhIAGrh",
        "outputId": "62b91fdd-f9c3-4f6f-f1ef-7a4daf382df0"
      },
      "outputs": [
        {
          "data": {
            "image/png": "[encoded data removed]",
            "text/plain": [
              "<Figure size 2000x2000 with 3 Axes>"
            ]
          },
          "metadata": {},
          "output_type": "display_data"
        }
      ],
      "source": [
        "import random\n",
        "import matplotlib.pyplot as plt\n",
        "\n",
        "figure, axes = plt.subplots(1, 3, figsize=(20,20))\n",
        "\n",
        "rand_num = random.randint(0, images_val.shape[0])\n",
        "\n",
        "original_img = images_val[rand_num]\n",
        "original_img_transp = np.moveaxis(original_img, 0, -1)\n",
        "original_img_transp = np.moveaxis(original_img_transp, 0, 1)\n",
        "axes[0].imshow(original_img_transp)\n",
        "axes[0].title.set_text('Original Image')\n",
        "\n",
        "original_mask = masks_val[rand_num]\n",
        "original_mask = original_mask.reshape(IMAGES_WITH, IMAGES_HEIGHT)\n",
        "original_mask = np.moveaxis(original_mask, 0, -1)\n",
        "axes[1].imshow(original_mask)\n",
        "axes[1].title.set_text('Original Mask')\n",
        "\n",
        "img = torch.from_numpy(np.array([original_img]))\n",
        "img = img.to(device)\n",
        "predicted_mask = model(img)[0]\n",
        "predicted_mask = predicted_mask.cpu()\n",
        "predicted_mask = predicted_mask.detach().numpy()\n",
        "predicted_mask = predicted_mask.reshape(IMAGES_WITH, IMAGES_HEIGHT)\n",
        "predicted_mask = np.moveaxis(predicted_mask, 0, 1)\n",
        "predicted_mask[predicted_mask>0.5] = 1\n",
        "predicted_mask[predicted_mask<=0.5] = 0\n",
        "axes[2].imshow(predicted_mask)\n",
        "axes[2].title.set_text('Predicted Mask')"
      ]
    }
  ],
  "metadata": {
    "accelerator": "GPU",
    "colab": {
      "gpuType": "T4",
      "provenance": []
    },
    "kernelspec": {
      "display_name": "Python 3",
      "name": "python3"
    },
    "language_info": {
      "codemirror_mode": {
        "name": "ipython",
        "version": 3
      },
      "file_extension": ".py",
      "mimetype": "text/x-python",
      "name": "python",
      "nbconvert_exporter": "python",
      "pygments_lexer": "ipython3",
      "version": "3.11.5"
    },
    "orig_nbformat": 4,
    "widgets": {
      "application/vnd.jupyter.widget-state+json": {
        "3fc76d0ccbaa4ebaa3bf16f106945907": {
          "model_module": "@jupyter-widgets/base",
          "model_module_version": "1.2.0",
          "model_name": "LayoutModel",
          "state": {
            "_model_module": "@jupyter-widgets/base",
            "_model_module_version": "1.2.0",
            "_model_name": "LayoutModel",
            "_view_count": null,
            "_view_module": "@jupyter-widgets/base",
            "_view_module_version": "1.2.0",
            "_view_name": "LayoutView",
            "align_content": null,
            "align_items": null,
            "align_self": null,
            "border": null,
            "bottom": null,
            "display": null,
            "flex": null,
            "flex_flow": null,
            "grid_area": null,
            "grid_auto_columns": null,
            "grid_auto_flow": null,
            "grid_auto_rows": null,
            "grid_column": null,
            "grid_gap": null,
            "grid_row": null,
            "grid_template_areas": null,
            "grid_template_columns": null,
            "grid_template_rows": null,
            "height": null,
            "justify_content": null,
            "justify_items": null,
            "left": null,
            "margin": null,
            "max_height": null,
            "max_width": null,
            "min_height": null,
            "min_width": null,
            "object_fit": null,
            "object_position": null,
            "order": null,
            "overflow": null,
            "overflow_x": null,
            "overflow_y": null,
            "padding": null,
            "right": null,
            "top": null,
            "visibility": null,
            "width": null
          }
        },
        "45ab0f8b79e74489b23210265c611df8": {
          "model_module": "@jupyter-widgets/controls",
          "model_module_version": "1.5.0",
          "model_name": "DescriptionStyleModel",
          "state": {
            "_model_module": "@jupyter-widgets/controls",
            "_model_module_version": "1.5.0",
            "_model_name": "DescriptionStyleModel",
            "_view_count": null,
            "_view_module": "@jupyter-widgets/base",
            "_view_module_version": "1.2.0",
            "_view_name": "StyleView",
            "description_width": ""
          }
        },
        "4b11f7b847b14d03b14b4c87b7008389": {
          "model_module": "@jupyter-widgets/base",
          "model_module_version": "1.2.0",
          "model_name": "LayoutModel",
          "state": {
            "_model_module": "@jupyter-widgets/base",
            "_model_module_version": "1.2.0",
            "_model_name": "LayoutModel",
            "_view_count": null,
            "_view_module": "@jupyter-widgets/base",
            "_view_module_version": "1.2.0",
            "_view_name": "LayoutView",
            "align_content": null,
            "align_items": null,
            "align_self": null,
            "border": null,
            "bottom": null,
            "display": null,
            "flex": null,
            "flex_flow": null,
            "grid_area": null,
            "grid_auto_columns": null,
            "grid_auto_flow": null,
            "grid_auto_rows": null,
            "grid_column": null,
            "grid_gap": null,
            "grid_row": null,
            "grid_template_areas": null,
            "grid_template_columns": null,
            "grid_template_rows": null,
            "height": null,
            "justify_content": null,
            "justify_items": null,
            "left": null,
            "margin": null,
            "max_height": null,
            "max_width": null,
            "min_height": null,
            "min_width": null,
            "object_fit": null,
            "object_position": null,
            "order": null,
            "overflow": null,
            "overflow_x": null,
            "overflow_y": null,
            "padding": null,
            "right": null,
            "top": null,
            "visibility": null,
            "width": null
          }
        },
        "5c8b1d336c2f40ec845a01acc0a98e72": {
          "model_module": "@jupyter-widgets/controls",
          "model_module_version": "1.5.0",
          "model_name": "HBoxModel",
          "state": {
            "_dom_classes": [],
            "_model_module": "@jupyter-widgets/controls",
            "_model_module_version": "1.5.0",
            "_model_name": "HBoxModel",
            "_view_count": null,
            "_view_module": "@jupyter-widgets/controls",
            "_view_module_version": "1.5.0",
            "_view_name": "HBoxView",
            "box_style": "",
            "children": [
              "IPY_MODEL_62ddc1d39cd744f7b17f442895028038",
              "IPY_MODEL_69b86e1c61d84154a795e69d55747882",
              "IPY_MODEL_d054cbb8e63f46ab9054dd742c6afff3"
            ],
            "layout": "IPY_MODEL_4b11f7b847b14d03b14b4c87b7008389"
          }
        },
        "62ddc1d39cd744f7b17f442895028038": {
          "model_module": "@jupyter-widgets/controls",
          "model_module_version": "1.5.0",
          "model_name": "HTMLModel",
          "state": {
            "_dom_classes": [],
            "_model_module": "@jupyter-widgets/controls",
            "_model_module_version": "1.5.0",
            "_model_name": "HTMLModel",
            "_view_count": null,
            "_view_module": "@jupyter-widgets/controls",
            "_view_module_version": "1.5.0",
            "_view_name": "HTMLView",
            "description": "",
            "description_tooltip": null,
            "layout": "IPY_MODEL_7a293b84626f4854a5ef638b00fc52e2",
            "placeholder": "​",
            "style": "IPY_MODEL_90a03be7d1b44b96aba4dda58029b33d",
            "value": "Downloading model.safetensors: 100%"
          }
        },
        "69b86e1c61d84154a795e69d55747882": {
          "model_module": "@jupyter-widgets/controls",
          "model_module_version": "1.5.0",
          "model_name": "FloatProgressModel",
          "state": {
            "_dom_classes": [],
            "_model_module": "@jupyter-widgets/controls",
            "_model_module_version": "1.5.0",
            "_model_name": "FloatProgressModel",
            "_view_count": null,
            "_view_module": "@jupyter-widgets/controls",
            "_view_module_version": "1.5.0",
            "_view_name": "ProgressView",
            "bar_style": "success",
            "description": "",
            "description_tooltip": null,
            "layout": "IPY_MODEL_3fc76d0ccbaa4ebaa3bf16f106945907",
            "max": 102548236,
            "min": 0,
            "orientation": "horizontal",
            "style": "IPY_MODEL_e6054f6ad7104ed9941ee05b0851271c",
            "value": 102548236
          }
        },
        "7a293b84626f4854a5ef638b00fc52e2": {
          "model_module": "@jupyter-widgets/base",
          "model_module_version": "1.2.0",
          "model_name": "LayoutModel",
          "state": {
            "_model_module": "@jupyter-widgets/base",
            "_model_module_version": "1.2.0",
            "_model_name": "LayoutModel",
            "_view_count": null,
            "_view_module": "@jupyter-widgets/base",
            "_view_module_version": "1.2.0",
            "_view_name": "LayoutView",
            "align_content": null,
            "align_items": null,
            "align_self": null,
            "border": null,
            "bottom": null,
            "display": null,
            "flex": null,
            "flex_flow": null,
            "grid_area": null,
            "grid_auto_columns": null,
            "grid_auto_flow": null,
            "grid_auto_rows": null,
            "grid_column": null,
            "grid_gap": null,
            "grid_row": null,
            "grid_template_areas": null,
            "grid_template_columns": null,
            "grid_template_rows": null,
            "height": null,
            "justify_content": null,
            "justify_items": null,
            "left": null,
            "margin": null,
            "max_height": null,
            "max_width": null,
            "min_height": null,
            "min_width": null,
            "object_fit": null,
            "object_position": null,
            "order": null,
            "overflow": null,
            "overflow_x": null,
            "overflow_y": null,
            "padding": null,
            "right": null,
            "top": null,
            "visibility": null,
            "width": null
          }
        },
        "90a03be7d1b44b96aba4dda58029b33d": {
          "model_module": "@jupyter-widgets/controls",
          "model_module_version": "1.5.0",
          "model_name": "DescriptionStyleModel",
          "state": {
            "_model_module": "@jupyter-widgets/controls",
            "_model_module_version": "1.5.0",
            "_model_name": "DescriptionStyleModel",
            "_view_count": null,
            "_view_module": "@jupyter-widgets/base",
            "_view_module_version": "1.2.0",
            "_view_name": "StyleView",
            "description_width": ""
          }
        },
        "ab06b6b5e0de41d4a316bf295027eae0": {
          "model_module": "@jupyter-widgets/base",
          "model_module_version": "1.2.0",
          "model_name": "LayoutModel",
          "state": {
            "_model_module": "@jupyter-widgets/base",
            "_model_module_version": "1.2.0",
            "_model_name": "LayoutModel",
            "_view_count": null,
            "_view_module": "@jupyter-widgets/base",
            "_view_module_version": "1.2.0",
            "_view_name": "LayoutView",
            "align_content": null,
            "align_items": null,
            "align_self": null,
            "border": null,
            "bottom": null,
            "display": null,
            "flex": null,
            "flex_flow": null,
            "grid_area": null,
            "grid_auto_columns": null,
            "grid_auto_flow": null,
            "grid_auto_rows": null,
            "grid_column": null,
            "grid_gap": null,
            "grid_row": null,
            "grid_template_areas": null,
            "grid_template_columns": null,
            "grid_template_rows": null,
            "height": null,
            "justify_content": null,
            "justify_items": null,
            "left": null,
            "margin": null,
            "max_height": null,
            "max_width": null,
            "min_height": null,
            "min_width": null,
            "object_fit": null,
            "object_position": null,
            "order": null,
            "overflow": null,
            "overflow_x": null,
            "overflow_y": null,
            "padding": null,
            "right": null,
            "top": null,
            "visibility": null,
            "width": null
          }
        },
        "d054cbb8e63f46ab9054dd742c6afff3": {
          "model_module": "@jupyter-widgets/controls",
          "model_module_version": "1.5.0",
          "model_name": "HTMLModel",
          "state": {
            "_dom_classes": [],
            "_model_module": "@jupyter-widgets/controls",
            "_model_module_version": "1.5.0",
            "_model_name": "HTMLModel",
            "_view_count": null,
            "_view_module": "@jupyter-widgets/controls",
            "_view_module_version": "1.5.0",
            "_view_name": "HTMLView",
            "description": "",
            "description_tooltip": null,
            "layout": "IPY_MODEL_ab06b6b5e0de41d4a316bf295027eae0",
            "placeholder": "​",
            "style": "IPY_MODEL_45ab0f8b79e74489b23210265c611df8",
            "value": " 103M/103M [00:01&lt;00:00, 90.1MB/s]"
          }
        },
        "e6054f6ad7104ed9941ee05b0851271c": {
          "model_module": "@jupyter-widgets/controls",
          "model_module_version": "1.5.0",
          "model_name": "ProgressStyleModel",
          "state": {
            "_model_module": "@jupyter-widgets/controls",
            "_model_module_version": "1.5.0",
            "_model_name": "ProgressStyleModel",
            "_view_count": null,
            "_view_module": "@jupyter-widgets/base",
            "_view_module_version": "1.2.0",
            "_view_name": "StyleView",
            "bar_color": null,
            "description_width": ""
          }
        }
      }
    }
  },
  "nbformat": 4,
  "nbformat_minor": 0
}
