{
 "cells": [
  {
   "cell_type": "code",
   "execution_count": 8,
   "metadata": {},
   "outputs": [],
   "source": [
    "import rasterio\n",
    "\n",
    "dataset = rasterio.open(\"./data/fao/soc_potential/GSOCseq_finalSOC_SSM1_Map030.tif\")"
   ]
  },
  {
   "cell_type": "code",
   "execution_count": 13,
   "metadata": {},
   "outputs": [
    {
     "name": "stdout",
     "output_type": "stream",
     "text": [
      "<class 'rasterio.io.DatasetReader'>\n",
      "1\n",
      "(16387, 43112)\n",
      "EPSG:4326\n"
     ]
    }
   ],
   "source": [
    "print(type(dataset))\n",
    "print(dataset.count)\n",
    "print(dataset.shape)\n",
    "print(dataset.crs)"
   ]
  },
  {
   "cell_type": "code",
   "execution_count": 15,
   "metadata": {},
   "outputs": [],
   "source": [
    "band = dataset.read(1)"
   ]
  },
  {
   "cell_type": "code",
   "execution_count": 18,
   "metadata": {},
   "outputs": [
    {
     "name": "stdout",
     "output_type": "stream",
     "text": [
      "<class 'numpy.ndarray'>\n",
      "-999.0\n",
      "710.31934\n",
      "-910.12775\n",
      "292.1659\n"
     ]
    }
   ],
   "source": [
    "import numpy \n",
    "\n",
    "print(type(band))\n",
    "print(numpy.min(band))\n",
    "print(numpy.max(band))\n",
    "print(numpy.mean(band))\n",
    "print(numpy.std(band))\n"
   ]
  }
 ],
 "metadata": {
  "kernelspec": {
   "display_name": "Python 3",
   "language": "python",
   "name": "python3"
  },
  "language_info": {
   "codemirror_mode": {
    "name": "ipython",
    "version": 3
   },
   "file_extension": ".py",
   "mimetype": "text/x-python",
   "name": "python",
   "nbconvert_exporter": "python",
   "pygments_lexer": "ipython3",
   "version": "3.11.5"
  },
  "orig_nbformat": 4
 },
 "nbformat": 4,
 "nbformat_minor": 2
}
