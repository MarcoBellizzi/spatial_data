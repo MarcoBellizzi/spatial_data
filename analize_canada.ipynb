{
 "cells": [
  {
   "cell_type": "code",
   "execution_count": 2,
   "metadata": {},
   "outputs": [
    {
     "name": "stdout",
     "output_type": "stream",
     "text": [
      "Training Features Shape: (630, 107)\n",
      "Training Labels Shape: (630,)\n",
      "Testing Features Shape: (210, 107)\n",
      "Testing Labels Shape: (210,)\n"
     ]
    }
   ],
   "source": [
    "import pandas as pd\n",
    "import numpy as np\n",
    "from sklearn.model_selection import train_test_split\n",
    "\n",
    "dataset = pd.read_csv('./data/krishitantra/dataset.csv')\n",
    "\n",
    "labels = np.array(dataset['SOC (%)'])\n",
    "features = np.array(dataset.drop('SOC (%)', axis = 1))\n",
    "\n",
    "train_features, test_features, train_labels, test_labels = train_test_split(features, labels, test_size = 0.25, random_state = 42)\n",
    "\n",
    "print('Training Features Shape:', train_features.shape)\n",
    "print('Training Labels Shape:', train_labels.shape)\n",
    "print('Testing Features Shape:', test_features.shape)\n",
    "print('Testing Labels Shape:', test_labels.shape)"
   ]
  },
  {
   "cell_type": "code",
   "execution_count": 3,
   "metadata": {},
   "outputs": [
    {
     "data": {
      "text/html": [
       "<style>#sk-container-id-1 {color: black;}#sk-container-id-1 pre{padding: 0;}#sk-container-id-1 div.sk-toggleable {background-color: white;}#sk-container-id-1 label.sk-toggleable__label {cursor: pointer;display: block;width: 100%;margin-bottom: 0;padding: 0.3em;box-sizing: border-box;text-align: center;}#sk-container-id-1 label.sk-toggleable__label-arrow:before {content: \"▸\";float: left;margin-right: 0.25em;color: #696969;}#sk-container-id-1 label.sk-toggleable__label-arrow:hover:before {color: black;}#sk-container-id-1 div.sk-estimator:hover label.sk-toggleable__label-arrow:before {color: black;}#sk-container-id-1 div.sk-toggleable__content {max-height: 0;max-width: 0;overflow: hidden;text-align: left;background-color: #f0f8ff;}#sk-container-id-1 div.sk-toggleable__content pre {margin: 0.2em;color: black;border-radius: 0.25em;background-color: #f0f8ff;}#sk-container-id-1 input.sk-toggleable__control:checked~div.sk-toggleable__content {max-height: 200px;max-width: 100%;overflow: auto;}#sk-container-id-1 input.sk-toggleable__control:checked~label.sk-toggleable__label-arrow:before {content: \"▾\";}#sk-container-id-1 div.sk-estimator input.sk-toggleable__control:checked~label.sk-toggleable__label {background-color: #d4ebff;}#sk-container-id-1 div.sk-label input.sk-toggleable__control:checked~label.sk-toggleable__label {background-color: #d4ebff;}#sk-container-id-1 input.sk-hidden--visually {border: 0;clip: rect(1px 1px 1px 1px);clip: rect(1px, 1px, 1px, 1px);height: 1px;margin: -1px;overflow: hidden;padding: 0;position: absolute;width: 1px;}#sk-container-id-1 div.sk-estimator {font-family: monospace;background-color: #f0f8ff;border: 1px dotted black;border-radius: 0.25em;box-sizing: border-box;margin-bottom: 0.5em;}#sk-container-id-1 div.sk-estimator:hover {background-color: #d4ebff;}#sk-container-id-1 div.sk-parallel-item::after {content: \"\";width: 100%;border-bottom: 1px solid gray;flex-grow: 1;}#sk-container-id-1 div.sk-label:hover label.sk-toggleable__label {background-color: #d4ebff;}#sk-container-id-1 div.sk-serial::before {content: \"\";position: absolute;border-left: 1px solid gray;box-sizing: border-box;top: 0;bottom: 0;left: 50%;z-index: 0;}#sk-container-id-1 div.sk-serial {display: flex;flex-direction: column;align-items: center;background-color: white;padding-right: 0.2em;padding-left: 0.2em;position: relative;}#sk-container-id-1 div.sk-item {position: relative;z-index: 1;}#sk-container-id-1 div.sk-parallel {display: flex;align-items: stretch;justify-content: center;background-color: white;position: relative;}#sk-container-id-1 div.sk-item::before, #sk-container-id-1 div.sk-parallel-item::before {content: \"\";position: absolute;border-left: 1px solid gray;box-sizing: border-box;top: 0;bottom: 0;left: 50%;z-index: -1;}#sk-container-id-1 div.sk-parallel-item {display: flex;flex-direction: column;z-index: 1;position: relative;background-color: white;}#sk-container-id-1 div.sk-parallel-item:first-child::after {align-self: flex-end;width: 50%;}#sk-container-id-1 div.sk-parallel-item:last-child::after {align-self: flex-start;width: 50%;}#sk-container-id-1 div.sk-parallel-item:only-child::after {width: 0;}#sk-container-id-1 div.sk-dashed-wrapped {border: 1px dashed gray;margin: 0 0.4em 0.5em 0.4em;box-sizing: border-box;padding-bottom: 0.4em;background-color: white;}#sk-container-id-1 div.sk-label label {font-family: monospace;font-weight: bold;display: inline-block;line-height: 1.2em;}#sk-container-id-1 div.sk-label-container {text-align: center;}#sk-container-id-1 div.sk-container {/* jupyter's `normalize.less` sets `[hidden] { display: none; }` but bootstrap.min.css set `[hidden] { display: none !important; }` so we also need the `!important` here to be able to override the default hidden behavior on the sphinx rendered scikit-learn.org. See: https://github.com/scikit-learn/scikit-learn/issues/21755 */display: inline-block !important;position: relative;}#sk-container-id-1 div.sk-text-repr-fallback {display: none;}</style><div id=\"sk-container-id-1\" class=\"sk-top-container\"><div class=\"sk-text-repr-fallback\"><pre>RandomForestRegressor(n_estimators=1000, random_state=42)</pre><b>In a Jupyter environment, please rerun this cell to show the HTML representation or trust the notebook. <br />On GitHub, the HTML representation is unable to render, please try loading this page with nbviewer.org.</b></div><div class=\"sk-container\" hidden><div class=\"sk-item\"><div class=\"sk-estimator sk-toggleable\"><input class=\"sk-toggleable__control sk-hidden--visually\" id=\"sk-estimator-id-1\" type=\"checkbox\" checked><label for=\"sk-estimator-id-1\" class=\"sk-toggleable__label sk-toggleable__label-arrow\">RandomForestRegressor</label><div class=\"sk-toggleable__content\"><pre>RandomForestRegressor(n_estimators=1000, random_state=42)</pre></div></div></div></div></div>"
      ],
      "text/plain": [
       "RandomForestRegressor(n_estimators=1000, random_state=42)"
      ]
     },
     "execution_count": 3,
     "metadata": {},
     "output_type": "execute_result"
    }
   ],
   "source": [
    "from sklearn.ensemble import RandomForestRegressor\n",
    "\n",
    "rf = RandomForestRegressor(n_estimators = 1000, random_state = 42)\n",
    "rf.fit(train_features, train_labels)"
   ]
  },
  {
   "cell_type": "code",
   "execution_count": 4,
   "metadata": {},
   "outputs": [
    {
     "name": "stdout",
     "output_type": "stream",
     "text": [
      "Mean Absolute Error: 0.47\n",
      "The accuracy of our model is 54.0%\n"
     ]
    }
   ],
   "source": [
    "from sklearn.metrics import mean_absolute_error, r2_score\n",
    "\n",
    "predictions = rf.predict(test_features)\n",
    "\n",
    "score = mean_absolute_error(test_labels, predictions)\n",
    "print(\"The Mean Absolute Error of our Model is {}\".format(round(score, 2)))\n",
    "\n",
    "score = r2_score(test_labels, predictions)\n",
    "print(\"The accuracy of our model is {}%\".format(round(score, 2) *100))"
   ]
  },
  {
   "cell_type": "code",
   "execution_count": 5,
   "metadata": {},
   "outputs": [
    {
     "name": "stdout",
     "output_type": "stream",
     "text": [
      "Variable: VDepth               Importance: 0.14\n",
      "Variable: RSP                  Importance: 0.12\n",
      "Variable: Y (DD)               Importance: 0.11\n",
      "Variable: NDVI_sd              Importance: 0.05\n",
      "Variable: EDF SW               Importance: 0.04\n",
      "Variable: EDF N                Importance: 0.04\n",
      "Variable: EDF NE               Importance: 0.03\n",
      "Variable: MDM B                Importance: 0.02\n",
      "Variable: MRRTF                Importance: 0.02\n",
      "Variable: TWI                  Importance: 0.02\n",
      "Variable: VIS                  Importance: 0.02\n",
      "Variable: NDVI_median          Importance: 0.02\n",
      "Variable: X (DD)               Importance: 0.02\n",
      "Variable: DevME C              Importance: 0.01\n",
      "Variable: DevME D              Importance: 0.01\n",
      "Variable: DiffME C             Importance: 0.01\n",
      "Variable: DiffME D             Importance: 0.01\n",
      "Variable: EDF MID              Importance: 0.01\n",
      "Variable: EDF NW               Importance: 0.01\n",
      "Variable: EDF SE               Importance: 0.01\n",
      "Variable: Gcurv                Importance: 0.01\n",
      "Variable: Hillshade            Importance: 0.01\n",
      "Variable: LS                   Importance: 0.01\n",
      "Variable: MDM A                Importance: 0.01\n",
      "Variable: MDM C                Importance: 0.01\n",
      "Variable: MED A                Importance: 0.01\n",
      "Variable: MED B                Importance: 0.01\n",
      "Variable: MRVBF                Importance: 0.01\n",
      "Variable: MSP                  Importance: 0.01\n",
      "Variable: NormH                Importance: 0.01\n",
      "Variable: Pro                  Importance: 0.01\n",
      "Variable: SLength              Importance: 0.01\n",
      "Variable: SlopeH               Importance: 0.01\n",
      "Variable: SPI                  Importance: 0.01\n",
      "Variable: SVF                  Importance: 0.01\n",
      "Variable: SWI                  Importance: 0.01\n",
      "Variable: TCurv                Importance: 0.01\n",
      "Variable: TPI                  Importance: 0.01\n",
      "Variable: NDVI_max             Importance: 0.01\n",
      "Variable: band_1               Importance: 0.01\n",
      "Variable: band_2               Importance: 0.01\n",
      "Variable: band_3               Importance: 0.01\n",
      "Variable: band_4               Importance: 0.01\n",
      "Variable: band_5               Importance: 0.01\n",
      "Variable: band_6               Importance: 0.01\n",
      "Variable: band_7               Importance: 0.01\n",
      "Variable: band_10              Importance: 0.01\n",
      "Variable: band_13              Importance: 0.01\n",
      "Variable: ndvi                 Importance: 0.01\n",
      "Variable: Catch                Importance: 0.0\n",
      "Variable: Conv                 Importance: 0.0\n",
      "Variable: Elev                 Importance: 0.0\n",
      "Variable: DevME A              Importance: 0.0\n",
      "Variable: DevME B              Importance: 0.0\n",
      "Variable: DiffME A             Importance: 0.0\n",
      "Variable: DiffME B             Importance: 0.0\n",
      "Variable: EDF E                Importance: 0.0\n",
      "Variable: MDMS A               Importance: 0.0\n",
      "Variable: MDMS B               Importance: 0.0\n",
      "Variable: MDMS C               Importance: 0.0\n",
      "Variable: MED C                Importance: 0.0\n",
      "Variable: MEDS A               Importance: 0.0\n",
      "Variable: MEDS B               Importance: 0.0\n",
      "Variable: MEDS C               Importance: 0.0\n",
      "Variable: MSTPI                Importance: 0.0\n",
      "Variable: Plan                 Importance: 0.0\n",
      "Variable: Slope                Importance: 0.0\n",
      "Variable: StanH                Importance: 0.0\n",
      "Variable: TRI                  Importance: 0.0\n",
      "Variable: band_8               Importance: 0.0\n",
      "Variable: band_9               Importance: 0.0\n",
      "Variable: band_11              Importance: 0.0\n",
      "Variable: band_12              Importance: 0.0\n",
      "Variable: T_GRAVEL             Importance: 0.0\n",
      "Variable: T_SAND               Importance: 0.0\n",
      "Variable: T_SILT               Importance: 0.0\n",
      "Variable: T_CLAY               Importance: 0.0\n",
      "Variable: T_USDA_TEX_CLASS     Importance: 0.0\n",
      "Variable: T_REF_BULK_DENSITY   Importance: 0.0\n",
      "Variable: T_BULK_DENSITY       Importance: 0.0\n",
      "Variable: T_OC                 Importance: 0.0\n",
      "Variable: T_PH_H2O             Importance: 0.0\n",
      "Variable: T_CEC_CLAY           Importance: 0.0\n",
      "Variable: T_CEC_SOIL           Importance: 0.0\n",
      "Variable: T_BS                 Importance: 0.0\n",
      "Variable: T_TEB                Importance: 0.0\n",
      "Variable: T_CACO3              Importance: 0.0\n",
      "Variable: T_CASO4              Importance: 0.0\n",
      "Variable: T_ESP                Importance: 0.0\n",
      "Variable: T_ECE                Importance: 0.0\n",
      "Variable: S_GRAVEL             Importance: 0.0\n",
      "Variable: S_SAND               Importance: 0.0\n",
      "Variable: S_SILT               Importance: 0.0\n",
      "Variable: S_CLAY               Importance: 0.0\n",
      "Variable: S_USDA_TEX_CLASS     Importance: 0.0\n",
      "Variable: S_REF_BULK_DENSITY   Importance: 0.0\n",
      "Variable: S_BULK_DENSITY       Importance: 0.0\n",
      "Variable: S_OC                 Importance: 0.0\n",
      "Variable: S_PH_H2O             Importance: 0.0\n",
      "Variable: S_CEC_CLAY           Importance: 0.0\n",
      "Variable: S_CEC_SOIL           Importance: 0.0\n",
      "Variable: S_BS                 Importance: 0.0\n",
      "Variable: S_TEB                Importance: 0.0\n",
      "Variable: S_CACO3              Importance: 0.0\n",
      "Variable: S_CASO4              Importance: 0.0\n",
      "Variable: S_ESP                Importance: 0.0\n",
      "Variable: S_ECE                Importance: 0.0\n"
     ]
    }
   ],
   "source": [
    "importances = list(rf.feature_importances_)\n",
    "\n",
    "feature_list = list(dataset.columns)\n",
    "feature_list.remove('SOC (%)')\n",
    "\n",
    "feature_importances = [(feature, round(importance, 2)) for feature, importance in zip(feature_list, importances)]\n",
    "feature_importances = sorted(feature_importances, key = lambda x: x[1], reverse = True)\n",
    "\n",
    "for pair in feature_importances:\n",
    "    print('Variable: {:20} Importance: {}'.format(*pair)) "
   ]
  }
 ],
 "metadata": {
  "kernelspec": {
   "display_name": "Python 3",
   "language": "python",
   "name": "python3"
  },
  "language_info": {
   "codemirror_mode": {
    "name": "ipython",
    "version": 3
   },
   "file_extension": ".py",
   "mimetype": "text/x-python",
   "name": "python",
   "nbconvert_exporter": "python",
   "pygments_lexer": "ipython3",
   "version": "3.11.5"
  }
 },
 "nbformat": 4,
 "nbformat_minor": 2
}
