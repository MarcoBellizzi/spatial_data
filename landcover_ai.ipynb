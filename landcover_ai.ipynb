{
 "cells": [
  {
   "cell_type": "code",
   "execution_count": 2,
   "metadata": {},
   "outputs": [],
   "source": [
    "import rasterio\n",
    "import os\n",
    "import numpy\n",
    "from sklearn.model_selection import train_test_split"
   ]
  },
  {
   "cell_type": "code",
   "execution_count": 3,
   "metadata": {},
   "outputs": [
    {
     "ename": "MemoryError",
     "evalue": "Unable to allocate 60.8 GiB for an array with shape (41540, 3, 256, 256) and data type float64",
     "output_type": "error",
     "traceback": [
      "\u001b[1;31m---------------------------------------------------------------------------\u001b[0m",
      "\u001b[1;31mMemoryError\u001b[0m                               Traceback (most recent call last)",
      "Cell \u001b[1;32mIn[3], line 33\u001b[0m\n\u001b[0;32m     30\u001b[0m         \u001b[38;5;28;01mfor\u001b[39;00m j \u001b[38;5;129;01min\u001b[39;00m \u001b[38;5;28mrange\u001b[39m((image\u001b[38;5;241m.\u001b[39mshape[\u001b[38;5;241m1\u001b[39m] \u001b[38;5;241m/\u001b[39m\u001b[38;5;241m/\u001b[39m size) \u001b[38;5;241m-\u001b[39m \u001b[38;5;241m1\u001b[39m):\n\u001b[0;32m     31\u001b[0m             masks\u001b[38;5;241m.\u001b[39mappend([band1[size \u001b[38;5;241m*\u001b[39m i : size \u001b[38;5;241m*\u001b[39m (i \u001b[38;5;241m+\u001b[39m \u001b[38;5;241m1\u001b[39m), size \u001b[38;5;241m*\u001b[39m j : size \u001b[38;5;241m*\u001b[39m (j \u001b[38;5;241m+\u001b[39m \u001b[38;5;241m1\u001b[39m)]])\n\u001b[1;32m---> 33\u001b[0m images \u001b[38;5;241m=\u001b[39m \u001b[43mnumpy\u001b[49m\u001b[38;5;241;43m.\u001b[39;49m\u001b[43marray\u001b[49m\u001b[43m(\u001b[49m\u001b[43mimages\u001b[49m\u001b[43m)\u001b[49m\n\u001b[0;32m     34\u001b[0m images \u001b[38;5;241m=\u001b[39m numpy\u001b[38;5;241m.\u001b[39mmoveaxis(images, \u001b[38;5;241m1\u001b[39m, \u001b[38;5;241m3\u001b[39m)\n\u001b[0;32m     35\u001b[0m images \u001b[38;5;241m=\u001b[39m numpy\u001b[38;5;241m.\u001b[39mmoveaxis(images, \u001b[38;5;241m1\u001b[39m, \u001b[38;5;241m2\u001b[39m)\n",
      "\u001b[1;31mMemoryError\u001b[0m: Unable to allocate 60.8 GiB for an array with shape (41540, 3, 256, 256) and data type float64"
     ]
    }
   ],
   "source": [
    "images = []\n",
    "masks = []\n",
    "\n",
    "size = 256\n",
    "\n",
    "for image_path in os.listdir('data/landcover_ai/images'):\n",
    "    image = rasterio.open('data/landcover_ai/images/' + image_path)\n",
    "    band1 = image.read(1) / 255\n",
    "    band2 = image.read(2) / 255\n",
    "    band3 = image.read(3) / 255\n",
    "\n",
    "    for i in range((image.shape[0] // size) - 1):\n",
    "        for j in range((image.shape[1] // size) - 1):\n",
    "            images.append([\n",
    "                band1[size * i : size * (i + 1), size * j : size * (j + 1)],\n",
    "                band2[size * i : size * (i + 1), size * j : size * (j + 1)],\n",
    "                band3[size * i : size * (i + 1), size * j : size * (j + 1)]\n",
    "            ])\n",
    "\n",
    "    # masks_classes = {0: \"Not classified\", 1: \"Building\", 2: \"Woodland\", 3: \"Water\", 4: \"Roads\"}\n",
    "    image = rasterio.open('data/landcover_ai/masks/' + image_path)\n",
    "    band1 = image.read(1)\n",
    "    band1[band1 == 0] = 0\n",
    "    band1[band1 == 1] = 0\n",
    "    band1[band1 == 3] = 0\n",
    "    band1[band1 == 4] = 0\n",
    "    band1[band1 == 2] = 1\n",
    "\n",
    "    for i in range((image.shape[0] // size) - 1):\n",
    "        for j in range((image.shape[1] // size) - 1):\n",
    "            masks.append([band1[size * i : size * (i + 1), size * j : size * (j + 1)]])\n",
    "\n",
    "images = numpy.array(images)\n",
    "images = numpy.moveaxis(images, 1, 3)\n",
    "images = numpy.moveaxis(images, 1, 2)\n",
    "print(images.shape, \"\")\n",
    "\n",
    "masks = numpy.array(masks)\n",
    "masks = numpy.moveaxis(masks, 1, 3)\n",
    "masks = numpy.moveaxis(masks, 1, 2)\n",
    "print(masks.shape, \"\")\n",
    "\n",
    "train_images, test_images, train_masks, test_masks = train_test_split(images, masks, test_size = 0.25, random_state = 42)\n",
    "print(train_images.shape)\n",
    "print(test_images.shape)\n",
    "print(train_masks.shape)\n",
    "print(test_masks.shape)"
   ]
  }
 ],
 "metadata": {
  "kernelspec": {
   "display_name": "Python 3",
   "language": "python",
   "name": "python3"
  },
  "language_info": {
   "codemirror_mode": {
    "name": "ipython",
    "version": 3
   },
   "file_extension": ".py",
   "mimetype": "text/x-python",
   "name": "python",
   "nbconvert_exporter": "python",
   "pygments_lexer": "ipython3",
   "version": "3.11.7"
  }
 },
 "nbformat": 4,
 "nbformat_minor": 2
}
